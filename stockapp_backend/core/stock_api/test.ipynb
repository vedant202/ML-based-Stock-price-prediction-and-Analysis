{
 "cells": [
  {
   "cell_type": "code",
   "execution_count": 1,
   "id": "5faaf1eb",
   "metadata": {},
   "outputs": [],
   "source": [
    "import numpy as np\n",
    "import pandas as pd\n",
    "from sklearn.preprocessing import MinMaxScaler\n",
    "from tensorflow.keras.models import Sequential\n",
    "from tensorflow.keras.layers import Dense,Dropout,LSTM\n",
    "import matplotlib.pyplot as plt\n",
    "\n",
    "from joblib import Parallel, delayed\n",
    "import joblib\n",
    "\n"
   ]
  },
  {
   "cell_type": "code",
   "execution_count": 2,
   "id": "6159fb68",
   "metadata": {},
   "outputs": [],
   "source": [
    "from datetime import datetime\n",
    "\n",
    "test_start = str(datetime.now().year-1) +\"-\"+ str(datetime.now().month-2)+\"-\"+ str(datetime.now().day)\n",
    "test_end = str(datetime.now().year) +\"-\"+ str(datetime.now().month)+\"-\"+ str(datetime.now().day)"
   ]
  },
  {
   "cell_type": "code",
   "execution_count": 3,
   "id": "ef57e7c2",
   "metadata": {},
   "outputs": [
    {
     "data": {
      "text/plain": [
       "('2022-2-8', '2023-4-8')"
      ]
     },
     "execution_count": 3,
     "metadata": {},
     "output_type": "execute_result"
    }
   ],
   "source": [
    "test_start,test_end"
   ]
  },
  {
   "cell_type": "code",
   "execution_count": 4,
   "id": "587d6515",
   "metadata": {},
   "outputs": [
    {
     "name": "stdout",
     "output_type": "stream",
     "text": [
      "[*********************100%***********************]  1 of 1 completed\n"
     ]
    }
   ],
   "source": [
    "from pandas_datareader import data as web\n",
    "import yfinance\n",
    "yfinance.pdr_override()\n",
    "\n",
    "company = 'HDFCBANK.NS'\n",
    "\n",
    "test_df = web.get_data_yahoo(company,start=test_start,end=test_end) \n",
    "scaler = MinMaxScaler(feature_range=(0,1))"
   ]
  },
  {
   "cell_type": "code",
   "execution_count": 5,
   "id": "245c99c8",
   "metadata": {},
   "outputs": [
    {
     "data": {
      "text/html": [
       "<div>\n",
       "<style scoped>\n",
       "    .dataframe tbody tr th:only-of-type {\n",
       "        vertical-align: middle;\n",
       "    }\n",
       "\n",
       "    .dataframe tbody tr th {\n",
       "        vertical-align: top;\n",
       "    }\n",
       "\n",
       "    .dataframe thead th {\n",
       "        text-align: right;\n",
       "    }\n",
       "</style>\n",
       "<table border=\"1\" class=\"dataframe\">\n",
       "  <thead>\n",
       "    <tr style=\"text-align: right;\">\n",
       "      <th></th>\n",
       "      <th>Open</th>\n",
       "      <th>High</th>\n",
       "      <th>Low</th>\n",
       "      <th>Close</th>\n",
       "      <th>Adj Close</th>\n",
       "      <th>Volume</th>\n",
       "    </tr>\n",
       "    <tr>\n",
       "      <th>Date</th>\n",
       "      <th></th>\n",
       "      <th></th>\n",
       "      <th></th>\n",
       "      <th></th>\n",
       "      <th></th>\n",
       "      <th></th>\n",
       "    </tr>\n",
       "  </thead>\n",
       "  <tbody>\n",
       "    <tr>\n",
       "      <th>2023-03-29</th>\n",
       "      <td>1584.000000</td>\n",
       "      <td>1602.000000</td>\n",
       "      <td>1581.900024</td>\n",
       "      <td>1587.800049</td>\n",
       "      <td>1587.800049</td>\n",
       "      <td>19881806</td>\n",
       "    </tr>\n",
       "    <tr>\n",
       "      <th>2023-03-31</th>\n",
       "      <td>1595.599976</td>\n",
       "      <td>1612.949951</td>\n",
       "      <td>1592.400024</td>\n",
       "      <td>1609.550049</td>\n",
       "      <td>1609.550049</td>\n",
       "      <td>17355614</td>\n",
       "    </tr>\n",
       "    <tr>\n",
       "      <th>2023-04-03</th>\n",
       "      <td>1607.550049</td>\n",
       "      <td>1615.699951</td>\n",
       "      <td>1602.750000</td>\n",
       "      <td>1610.550049</td>\n",
       "      <td>1610.550049</td>\n",
       "      <td>20012699</td>\n",
       "    </tr>\n",
       "    <tr>\n",
       "      <th>2023-04-05</th>\n",
       "      <td>1618.599976</td>\n",
       "      <td>1656.000000</td>\n",
       "      <td>1616.000000</td>\n",
       "      <td>1653.750000</td>\n",
       "      <td>1653.750000</td>\n",
       "      <td>21682696</td>\n",
       "    </tr>\n",
       "    <tr>\n",
       "      <th>2023-04-06</th>\n",
       "      <td>1648.550049</td>\n",
       "      <td>1669.199951</td>\n",
       "      <td>1647.099976</td>\n",
       "      <td>1666.349976</td>\n",
       "      <td>1666.349976</td>\n",
       "      <td>22318672</td>\n",
       "    </tr>\n",
       "  </tbody>\n",
       "</table>\n",
       "</div>"
      ],
      "text/plain": [
       "                   Open         High          Low        Close    Adj Close  \\\n",
       "Date                                                                          \n",
       "2023-03-29  1584.000000  1602.000000  1581.900024  1587.800049  1587.800049   \n",
       "2023-03-31  1595.599976  1612.949951  1592.400024  1609.550049  1609.550049   \n",
       "2023-04-03  1607.550049  1615.699951  1602.750000  1610.550049  1610.550049   \n",
       "2023-04-05  1618.599976  1656.000000  1616.000000  1653.750000  1653.750000   \n",
       "2023-04-06  1648.550049  1669.199951  1647.099976  1666.349976  1666.349976   \n",
       "\n",
       "              Volume  \n",
       "Date                  \n",
       "2023-03-29  19881806  \n",
       "2023-03-31  17355614  \n",
       "2023-04-03  20012699  \n",
       "2023-04-05  21682696  \n",
       "2023-04-06  22318672  "
      ]
     },
     "execution_count": 5,
     "metadata": {},
     "output_type": "execute_result"
    }
   ],
   "source": [
    "test_df.tail()"
   ]
  },
  {
   "cell_type": "code",
   "execution_count": 6,
   "id": "0f0c5061",
   "metadata": {},
   "outputs": [],
   "source": [
    "test_df = test_df.reset_index()"
   ]
  },
  {
   "cell_type": "code",
   "execution_count": 7,
   "id": "08ee884c",
   "metadata": {},
   "outputs": [
    {
     "name": "stdout",
     "output_type": "stream",
     "text": [
      "(288,) (288,)\n"
     ]
    }
   ],
   "source": [
    "actual_prices = test_df['Close'].values\n",
    "print(actual_prices.shape,test_df['Close'].shape)"
   ]
  },
  {
   "cell_type": "code",
   "execution_count": 8,
   "id": "43ab172c",
   "metadata": {},
   "outputs": [
    {
     "data": {
      "text/plain": [
       "(288, 1)"
      ]
     },
     "execution_count": 8,
     "metadata": {},
     "output_type": "execute_result"
    }
   ],
   "source": [
    "reshape_close = test_df['Close'].values.reshape(-1,1)\n",
    "reshape_close.shape"
   ]
  },
  {
   "cell_type": "code",
   "execution_count": 9,
   "id": "2f6cd038",
   "metadata": {},
   "outputs": [],
   "source": [
    "scaler = MinMaxScaler(feature_range=(0,1))\n",
    "scaled_data = scaler.fit_transform(reshape_close)"
   ]
  },
  {
   "cell_type": "code",
   "execution_count": 10,
   "id": "20db2d10",
   "metadata": {},
   "outputs": [],
   "source": [
    "prediction_days = 60\n",
    "x_test = []\n",
    "for x in range(prediction_days,len(scaled_data)):\n",
    "    x_test.append(scaled_data[x-prediction_days:x,0])"
   ]
  },
  {
   "cell_type": "code",
   "execution_count": 11,
   "id": "bcaea8ba",
   "metadata": {},
   "outputs": [],
   "source": [
    "x_test = np.array(x_test)"
   ]
  },
  {
   "cell_type": "code",
   "execution_count": 12,
   "id": "6c73cc15",
   "metadata": {},
   "outputs": [
    {
     "data": {
      "text/plain": [
       "(228, 60)"
      ]
     },
     "execution_count": 12,
     "metadata": {},
     "output_type": "execute_result"
    }
   ],
   "source": [
    "x_test.shape"
   ]
  },
  {
   "cell_type": "code",
   "execution_count": 13,
   "id": "963ecccf",
   "metadata": {},
   "outputs": [
    {
     "data": {
      "text/plain": [
       "(228, 60, 1)"
      ]
     },
     "execution_count": 13,
     "metadata": {},
     "output_type": "execute_result"
    }
   ],
   "source": [
    "x_test = np.reshape(x_test,(x_test.shape[0],x_test.shape[1],1))\n",
    "x_test.shape"
   ]
  },
  {
   "cell_type": "code",
   "execution_count": 14,
   "id": "26e5dc7c",
   "metadata": {},
   "outputs": [
    {
     "data": {
      "text/plain": [
       "(3, 1)"
      ]
     },
     "execution_count": 14,
     "metadata": {},
     "output_type": "execute_result"
    }
   ],
   "source": [
    "a = [1,2,3]\n",
    "a = np.array(a)\n",
    "a = np.reshape(a,(-1,1))\n",
    "a.shape"
   ]
  },
  {
   "cell_type": "code",
   "execution_count": 15,
   "id": "46548382",
   "metadata": {},
   "outputs": [
    {
     "data": {
      "text/plain": [
       "'D:\\\\Stock_PricePredictionAnd Analysis\\\\project Code\\\\stockapp_backend\\\\core\\\\stock_api'"
      ]
     },
     "execution_count": 15,
     "metadata": {},
     "output_type": "execute_result"
    }
   ],
   "source": [
    "import os\n",
    "os.getcwd()"
   ]
  },
  {
   "cell_type": "code",
   "execution_count": 16,
   "id": "8533901d",
   "metadata": {},
   "outputs": [],
   "source": [
    "import pickle\n",
    "# model = joblib.load(\"D:\\Stock_PricePredictionAnd Analysis\\project Code\\stockapp_backend\\core\\models_prediction\\HDFCBANK.pkl\")\n"
   ]
  },
  {
   "cell_type": "code",
   "execution_count": 17,
   "id": "04b7f850",
   "metadata": {},
   "outputs": [
    {
     "name": "stdout",
     "output_type": "stream",
     "text": [
      "Keras model archive loading:\n",
      "File Name                                             Modified             Size\n",
      "metadata.json                                  1980-01-01 00:00:00           64\n",
      "config.json                                    1980-01-01 00:00:00         3924\n",
      "model.weights.h5                               2023-04-07 23:16:12       647484\n",
      "[Errno 2] Unable to open file (unable to open file: name = 'C:\\Users\\DELL\\AppData\\Local\\Temp\\tmp4xno51j8\\variables.h5', errno = 2, error message = 'No such file or directory', flags = 0, o_flags = 0)\n"
     ]
    }
   ],
   "source": [
    "try:\n",
    "    \n",
    "    model = joblib.load(\"D:\\Stock_PricePredictionAnd Analysis\\project Code\\stockapp_backend\\core\\models_prediction\\HDFCBANK.pkl\")    \n",
    "    predictd_prices = model.predict(x_test)\n",
    "    print(model)\n",
    "    \n",
    "except Exception as e:\n",
    "    print(e)"
   ]
  },
  {
   "cell_type": "code",
   "execution_count": 43,
   "id": "af5a5d08",
   "metadata": {},
   "outputs": [
    {
     "name": "stdout",
     "output_type": "stream",
     "text": [
      "[*********************100%***********************]  6 of 6 completed\n"
     ]
    }
   ],
   "source": [
    "tickers = ['RELIANCE.NS','TCS.NS','HDFCBANK.NS','INFY.NS','HINDUNILVR.NS','ICICIBANK.NS']\n",
    "test_start = str(datetime.now().year) +\"-\"+ str(datetime.now().month)+\"-\"+ str(datetime.now().day-1)\n",
    "test_end = str(datetime.now().year) +\"-\"+ str(datetime.now().month)+\"-\"+ str(datetime.now().day)\n",
    "test_df = web.get_data_yahoo(tickers,start=test_start,end=test_end)"
   ]
  },
  {
   "cell_type": "code",
   "execution_count": 39,
   "id": "027abcca",
   "metadata": {},
   "outputs": [
    {
     "data": {
      "text/html": [
       "<div>\n",
       "<style scoped>\n",
       "    .dataframe tbody tr th:only-of-type {\n",
       "        vertical-align: middle;\n",
       "    }\n",
       "\n",
       "    .dataframe tbody tr th {\n",
       "        vertical-align: top;\n",
       "    }\n",
       "\n",
       "    .dataframe thead tr th {\n",
       "        text-align: left;\n",
       "    }\n",
       "\n",
       "    .dataframe thead tr:last-of-type th {\n",
       "        text-align: right;\n",
       "    }\n",
       "</style>\n",
       "<table border=\"1\" class=\"dataframe\">\n",
       "  <thead>\n",
       "    <tr>\n",
       "      <th></th>\n",
       "      <th colspan=\"6\" halign=\"left\">Adj Close</th>\n",
       "      <th colspan=\"4\" halign=\"left\">Close</th>\n",
       "      <th>...</th>\n",
       "      <th colspan=\"4\" halign=\"left\">Open</th>\n",
       "      <th colspan=\"6\" halign=\"left\">Volume</th>\n",
       "    </tr>\n",
       "    <tr>\n",
       "      <th></th>\n",
       "      <th>HDFCBANK.NS</th>\n",
       "      <th>HINDUNILVR.NS</th>\n",
       "      <th>ICICIBANK.NS</th>\n",
       "      <th>INFY.NS</th>\n",
       "      <th>RELIANCE.NS</th>\n",
       "      <th>TCS.NS</th>\n",
       "      <th>HDFCBANK.NS</th>\n",
       "      <th>HINDUNILVR.NS</th>\n",
       "      <th>ICICIBANK.NS</th>\n",
       "      <th>INFY.NS</th>\n",
       "      <th>...</th>\n",
       "      <th>ICICIBANK.NS</th>\n",
       "      <th>INFY.NS</th>\n",
       "      <th>RELIANCE.NS</th>\n",
       "      <th>TCS.NS</th>\n",
       "      <th>HDFCBANK.NS</th>\n",
       "      <th>HINDUNILVR.NS</th>\n",
       "      <th>ICICIBANK.NS</th>\n",
       "      <th>INFY.NS</th>\n",
       "      <th>RELIANCE.NS</th>\n",
       "      <th>TCS.NS</th>\n",
       "    </tr>\n",
       "    <tr>\n",
       "      <th>Date</th>\n",
       "      <th></th>\n",
       "      <th></th>\n",
       "      <th></th>\n",
       "      <th></th>\n",
       "      <th></th>\n",
       "      <th></th>\n",
       "      <th></th>\n",
       "      <th></th>\n",
       "      <th></th>\n",
       "      <th></th>\n",
       "      <th></th>\n",
       "      <th></th>\n",
       "      <th></th>\n",
       "      <th></th>\n",
       "      <th></th>\n",
       "      <th></th>\n",
       "      <th></th>\n",
       "      <th></th>\n",
       "      <th></th>\n",
       "      <th></th>\n",
       "      <th></th>\n",
       "    </tr>\n",
       "  </thead>\n",
       "  <tbody>\n",
       "    <tr>\n",
       "      <th>2023-04-06</th>\n",
       "      <td>1666.0</td>\n",
       "      <td>2564.0</td>\n",
       "      <td>875.0</td>\n",
       "      <td>1422.349976</td>\n",
       "      <td>2340.149902</td>\n",
       "      <td>3218.899902</td>\n",
       "      <td>1666.0</td>\n",
       "      <td>2564.0</td>\n",
       "      <td>875.0</td>\n",
       "      <td>1422.349976</td>\n",
       "      <td>...</td>\n",
       "      <td>882.0</td>\n",
       "      <td>1416.0</td>\n",
       "      <td>2318.149902</td>\n",
       "      <td>3225.0</td>\n",
       "      <td>22317458</td>\n",
       "      <td>797385</td>\n",
       "      <td>26040712</td>\n",
       "      <td>6948081</td>\n",
       "      <td>8504637</td>\n",
       "      <td>1700477</td>\n",
       "    </tr>\n",
       "  </tbody>\n",
       "</table>\n",
       "<p>1 rows × 36 columns</p>\n",
       "</div>"
      ],
      "text/plain": [
       "             Adj Close                                                       \\\n",
       "           HDFCBANK.NS HINDUNILVR.NS ICICIBANK.NS      INFY.NS  RELIANCE.NS   \n",
       "Date                                                                          \n",
       "2023-04-06      1666.0        2564.0        875.0  1422.349976  2340.149902   \n",
       "\n",
       "                              Close                                          \\\n",
       "                 TCS.NS HDFCBANK.NS HINDUNILVR.NS ICICIBANK.NS      INFY.NS   \n",
       "Date                                                                          \n",
       "2023-04-06  3218.899902      1666.0        2564.0        875.0  1422.349976   \n",
       "\n",
       "            ...         Open                                   Volume  \\\n",
       "            ... ICICIBANK.NS INFY.NS  RELIANCE.NS  TCS.NS HDFCBANK.NS   \n",
       "Date        ...                                                         \n",
       "2023-04-06  ...        882.0  1416.0  2318.149902  3225.0    22317458   \n",
       "\n",
       "                                                                     \n",
       "           HINDUNILVR.NS ICICIBANK.NS  INFY.NS RELIANCE.NS   TCS.NS  \n",
       "Date                                                                 \n",
       "2023-04-06        797385     26040712  6948081     8504637  1700477  \n",
       "\n",
       "[1 rows x 36 columns]"
      ]
     },
     "execution_count": 39,
     "metadata": {},
     "output_type": "execute_result"
    }
   ],
   "source": [
    "test_df"
   ]
  },
  {
   "cell_type": "code",
   "execution_count": 40,
   "id": "c038ef75",
   "metadata": {},
   "outputs": [],
   "source": [
    "test_df = test_df.reset_index()"
   ]
  },
  {
   "cell_type": "code",
   "execution_count": 41,
   "id": "decbf651",
   "metadata": {},
   "outputs": [
    {
     "data": {
      "text/html": [
       "<div>\n",
       "<style scoped>\n",
       "    .dataframe tbody tr th:only-of-type {\n",
       "        vertical-align: middle;\n",
       "    }\n",
       "\n",
       "    .dataframe tbody tr th {\n",
       "        vertical-align: top;\n",
       "    }\n",
       "\n",
       "    .dataframe thead tr th {\n",
       "        text-align: left;\n",
       "    }\n",
       "</style>\n",
       "<table border=\"1\" class=\"dataframe\">\n",
       "  <thead>\n",
       "    <tr>\n",
       "      <th></th>\n",
       "      <th>Date</th>\n",
       "      <th colspan=\"6\" halign=\"left\">Adj Close</th>\n",
       "      <th colspan=\"3\" halign=\"left\">Close</th>\n",
       "      <th>...</th>\n",
       "      <th colspan=\"4\" halign=\"left\">Open</th>\n",
       "      <th colspan=\"6\" halign=\"left\">Volume</th>\n",
       "    </tr>\n",
       "    <tr>\n",
       "      <th></th>\n",
       "      <th></th>\n",
       "      <th>HDFCBANK.NS</th>\n",
       "      <th>HINDUNILVR.NS</th>\n",
       "      <th>ICICIBANK.NS</th>\n",
       "      <th>INFY.NS</th>\n",
       "      <th>RELIANCE.NS</th>\n",
       "      <th>TCS.NS</th>\n",
       "      <th>HDFCBANK.NS</th>\n",
       "      <th>HINDUNILVR.NS</th>\n",
       "      <th>ICICIBANK.NS</th>\n",
       "      <th>...</th>\n",
       "      <th>ICICIBANK.NS</th>\n",
       "      <th>INFY.NS</th>\n",
       "      <th>RELIANCE.NS</th>\n",
       "      <th>TCS.NS</th>\n",
       "      <th>HDFCBANK.NS</th>\n",
       "      <th>HINDUNILVR.NS</th>\n",
       "      <th>ICICIBANK.NS</th>\n",
       "      <th>INFY.NS</th>\n",
       "      <th>RELIANCE.NS</th>\n",
       "      <th>TCS.NS</th>\n",
       "    </tr>\n",
       "  </thead>\n",
       "  <tbody>\n",
       "    <tr>\n",
       "      <th>0</th>\n",
       "      <td>2023-04-06</td>\n",
       "      <td>1666.0</td>\n",
       "      <td>2564.0</td>\n",
       "      <td>875.0</td>\n",
       "      <td>1422.349976</td>\n",
       "      <td>2340.149902</td>\n",
       "      <td>3218.899902</td>\n",
       "      <td>1666.0</td>\n",
       "      <td>2564.0</td>\n",
       "      <td>875.0</td>\n",
       "      <td>...</td>\n",
       "      <td>882.0</td>\n",
       "      <td>1416.0</td>\n",
       "      <td>2318.149902</td>\n",
       "      <td>3225.0</td>\n",
       "      <td>22317458</td>\n",
       "      <td>797385</td>\n",
       "      <td>26040712</td>\n",
       "      <td>6948081</td>\n",
       "      <td>8504637</td>\n",
       "      <td>1700477</td>\n",
       "    </tr>\n",
       "  </tbody>\n",
       "</table>\n",
       "<p>1 rows × 37 columns</p>\n",
       "</div>"
      ],
      "text/plain": [
       "        Date   Adj Close                                                       \\\n",
       "             HDFCBANK.NS HINDUNILVR.NS ICICIBANK.NS      INFY.NS  RELIANCE.NS   \n",
       "0 2023-04-06      1666.0        2564.0        875.0  1422.349976  2340.149902   \n",
       "\n",
       "                     Close                             ...         Open  \\\n",
       "        TCS.NS HDFCBANK.NS HINDUNILVR.NS ICICIBANK.NS  ... ICICIBANK.NS   \n",
       "0  3218.899902      1666.0        2564.0        875.0  ...        882.0   \n",
       "\n",
       "                                    Volume                             \\\n",
       "  INFY.NS  RELIANCE.NS  TCS.NS HDFCBANK.NS HINDUNILVR.NS ICICIBANK.NS   \n",
       "0  1416.0  2318.149902  3225.0    22317458        797385     26040712   \n",
       "\n",
       "                                 \n",
       "   INFY.NS RELIANCE.NS   TCS.NS  \n",
       "0  6948081     8504637  1700477  \n",
       "\n",
       "[1 rows x 37 columns]"
      ]
     },
     "execution_count": 41,
     "metadata": {},
     "output_type": "execute_result"
    }
   ],
   "source": [
    "test_df"
   ]
  },
  {
   "cell_type": "code",
   "execution_count": 42,
   "id": "9fe06849",
   "metadata": {},
   "outputs": [
    {
     "data": {
      "text/plain": [
       "0    3218.899902\n",
       "Name: TCS.NS, dtype: float64"
      ]
     },
     "execution_count": 42,
     "metadata": {},
     "output_type": "execute_result"
    }
   ],
   "source": [
    "test_df['Close']['TCS.NS']"
   ]
  },
  {
   "cell_type": "code",
   "execution_count": 45,
   "id": "6c8d27cb",
   "metadata": {},
   "outputs": [
    {
     "name": "stdout",
     "output_type": "stream",
     "text": [
      "[*********************100%***********************]  10 of 10 completed\n"
     ]
    }
   ],
   "source": [
    "tickers = ['ADANIENT.NS','BAJFINANCE.NS','TATAMOTORS.NS','TCS.NS','HDFCBANK.NS','INFY.NS','HINDUNILVR.NS','ICICIBANK.NS','SUNPHARMA.NS','EICHERMOT.NS']\n",
    "test_start = str(datetime.now().year) +\"-\"+ str(datetime.now().month)+\"-\"+ str(datetime.now().day-1)\n",
    "test_end = str(datetime.now().year) +\"-\"+ str(datetime.now().month)+\"-\"+ str(datetime.now().day)\n",
    "test_df = web.get_data_yahoo(tickers,start=test_start,end=test_end)"
   ]
  },
  {
   "cell_type": "code",
   "execution_count": 68,
   "id": "fd179955",
   "metadata": {},
   "outputs": [
    {
     "name": "stdout",
     "output_type": "stream",
     "text": [
      "{'ADANIENT.NS': [1705.0, 1752.5999755859375], 'BAJFINANCE.NS': [5761.0, 5951.0], 'EICHERMOT.NS': [2948.699951171875, 2965.0], 'HDFCBANK.NS': [1648.550048828125, 1666.0], 'HINDUNILVR.NS': [2575.0, 2564.0], 'ICICIBANK.NS': [882.0, 875.0], 'INFY.NS': [1416.0, 1422.3499755859375], 'SUNPHARMA.NS': [997.1500244140625, 1011.0499877929688], 'TATAMOTORS.NS': [426.5, 437.1499938964844], 'TCS.NS': [3225.0, 3218.89990234375]}\n"
     ]
    }
   ],
   "source": [
    "stock_dict = {}\n",
    "for column in test_df['Open'].columns:\n",
    "    stock_dict[column]= [test_df['Open'][column].values[0],test_df['Close'][column].values[0]]\n",
    "#     print()\n",
    "print(stock_dict)\n",
    "# test_df['Open'].values[0]\n",
    "# test_df['Open'].columns.to_list()"
   ]
  },
  {
   "cell_type": "code",
   "execution_count": null,
   "id": "f17537b2",
   "metadata": {},
   "outputs": [],
   "source": []
  }
 ],
 "metadata": {
  "kernelspec": {
   "display_name": "Python 3 (ipykernel)",
   "language": "python",
   "name": "python3"
  },
  "language_info": {
   "codemirror_mode": {
    "name": "ipython",
    "version": 3
   },
   "file_extension": ".py",
   "mimetype": "text/x-python",
   "name": "python",
   "nbconvert_exporter": "python",
   "pygments_lexer": "ipython3",
   "version": "3.9.6"
  }
 },
 "nbformat": 4,
 "nbformat_minor": 5
}
